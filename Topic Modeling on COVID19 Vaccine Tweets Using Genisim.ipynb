{
 "cells": [
  {
   "cell_type": "markdown",
   "id": "2cd3b185",
   "metadata": {},
   "source": [
    "# Import the Dependencies"
   ]
  },
  {
   "cell_type": "code",
   "execution_count": 23,
   "id": "ef2588dd",
   "metadata": {},
   "outputs": [
    {
     "name": "stderr",
     "output_type": "stream",
     "text": [
      "[nltk_data] Downloading package wordnet to C:\\Users\\Devmallya\n",
      "[nltk_data]     Karar\\AppData\\Roaming\\nltk_data...\n",
      "[nltk_data]   Package wordnet is already up-to-date!\n"
     ]
    }
   ],
   "source": [
    "import gensim\n",
    "from gensim.utils import simple_preprocess\n",
    "from gensim.parsing.preprocessing import STOPWORDS\n",
    "from nltk.stem import WordNetLemmatizer, SnowballStemmer\n",
    "from nltk.stem.porter import *\n",
    "import numpy as np\n",
    "import nltk\n",
    "import re\n",
    "import pandas as pd\n",
    "import seaborn as sns\n",
    "import numpy as np\n",
    "from nltk.tokenize import RegexpTokenizer\n",
    "from nltk.corpus import stopwords\n",
    "nltk.download('wordnet')\n",
    "np.random.seed(2018)"
   ]
  },
  {
   "cell_type": "markdown",
   "id": "e12ab49e",
   "metadata": {},
   "source": [
    "    Topic modelling is a sort of statistical modelling that is used to locate abstract \"themes\" in a collection of documents. To assign text in a document to a certain subject, the topic model Latent Dirichlet Allocation (LDA) is utilised. It generates a topic per document and word per topic model based on the Dirichlet distribution."
   ]
  },
  {
   "cell_type": "markdown",
   "id": "58ceebb0",
   "metadata": {},
   "source": [
    "# Load the Data"
   ]
  },
  {
   "cell_type": "code",
   "execution_count": 2,
   "id": "ac9ae322",
   "metadata": {},
   "outputs": [
    {
     "data": {
      "text/html": [
       "<div>\n",
       "<style scoped>\n",
       "    .dataframe tbody tr th:only-of-type {\n",
       "        vertical-align: middle;\n",
       "    }\n",
       "\n",
       "    .dataframe tbody tr th {\n",
       "        vertical-align: top;\n",
       "    }\n",
       "\n",
       "    .dataframe thead th {\n",
       "        text-align: right;\n",
       "    }\n",
       "</style>\n",
       "<table border=\"1\" class=\"dataframe\">\n",
       "  <thead>\n",
       "    <tr style=\"text-align: right;\">\n",
       "      <th></th>\n",
       "      <th>id</th>\n",
       "      <th>user_name</th>\n",
       "      <th>user_location</th>\n",
       "      <th>user_description</th>\n",
       "      <th>user_created</th>\n",
       "      <th>user_followers</th>\n",
       "      <th>user_friends</th>\n",
       "      <th>user_favourites</th>\n",
       "      <th>user_verified</th>\n",
       "      <th>date</th>\n",
       "      <th>text</th>\n",
       "      <th>hashtags</th>\n",
       "      <th>source</th>\n",
       "      <th>retweets</th>\n",
       "      <th>favorites</th>\n",
       "      <th>is_retweet</th>\n",
       "    </tr>\n",
       "  </thead>\n",
       "  <tbody>\n",
       "    <tr>\n",
       "      <th>0</th>\n",
       "      <td>1340539111971516416</td>\n",
       "      <td>Rachel Roh</td>\n",
       "      <td>La Crescenta-Montrose, CA</td>\n",
       "      <td>Aggregator of Asian American news; scanning di...</td>\n",
       "      <td>2009-04-08 17:52:46</td>\n",
       "      <td>405</td>\n",
       "      <td>1692</td>\n",
       "      <td>3247</td>\n",
       "      <td>False</td>\n",
       "      <td>2020-12-20 06:06:44</td>\n",
       "      <td>Same folks said daikon paste could treat a cyt...</td>\n",
       "      <td>['PfizerBioNTech']</td>\n",
       "      <td>Twitter for Android</td>\n",
       "      <td>0</td>\n",
       "      <td>0</td>\n",
       "      <td>False</td>\n",
       "    </tr>\n",
       "    <tr>\n",
       "      <th>1</th>\n",
       "      <td>1338158543359250433</td>\n",
       "      <td>Albert Fong</td>\n",
       "      <td>San Francisco, CA</td>\n",
       "      <td>Marketing dude, tech geek, heavy metal &amp; '80s ...</td>\n",
       "      <td>2009-09-21 15:27:30</td>\n",
       "      <td>834</td>\n",
       "      <td>666</td>\n",
       "      <td>178</td>\n",
       "      <td>False</td>\n",
       "      <td>2020-12-13 16:27:13</td>\n",
       "      <td>While the world has been on the wrong side of ...</td>\n",
       "      <td>NaN</td>\n",
       "      <td>Twitter Web App</td>\n",
       "      <td>1</td>\n",
       "      <td>1</td>\n",
       "      <td>False</td>\n",
       "    </tr>\n",
       "    <tr>\n",
       "      <th>2</th>\n",
       "      <td>1337858199140118533</td>\n",
       "      <td>eli🇱🇹🇪🇺👌</td>\n",
       "      <td>Your Bed</td>\n",
       "      <td>heil, hydra 🖐☺</td>\n",
       "      <td>2020-06-25 23:30:28</td>\n",
       "      <td>10</td>\n",
       "      <td>88</td>\n",
       "      <td>155</td>\n",
       "      <td>False</td>\n",
       "      <td>2020-12-12 20:33:45</td>\n",
       "      <td>#coronavirus #SputnikV #AstraZeneca #PfizerBio...</td>\n",
       "      <td>['coronavirus', 'SputnikV', 'AstraZeneca', 'Pf...</td>\n",
       "      <td>Twitter for Android</td>\n",
       "      <td>0</td>\n",
       "      <td>0</td>\n",
       "      <td>False</td>\n",
       "    </tr>\n",
       "    <tr>\n",
       "      <th>3</th>\n",
       "      <td>1337855739918835717</td>\n",
       "      <td>Charles Adler</td>\n",
       "      <td>Vancouver, BC - Canada</td>\n",
       "      <td>Hosting \"CharlesAdlerTonight\" Global News Radi...</td>\n",
       "      <td>2008-09-10 11:28:53</td>\n",
       "      <td>49165</td>\n",
       "      <td>3933</td>\n",
       "      <td>21853</td>\n",
       "      <td>True</td>\n",
       "      <td>2020-12-12 20:23:59</td>\n",
       "      <td>Facts are immutable, Senator, even when you're...</td>\n",
       "      <td>NaN</td>\n",
       "      <td>Twitter Web App</td>\n",
       "      <td>446</td>\n",
       "      <td>2129</td>\n",
       "      <td>False</td>\n",
       "    </tr>\n",
       "    <tr>\n",
       "      <th>4</th>\n",
       "      <td>1337854064604966912</td>\n",
       "      <td>Citizen News Channel</td>\n",
       "      <td>NaN</td>\n",
       "      <td>Citizen News Channel bringing you an alternati...</td>\n",
       "      <td>2020-04-23 17:58:42</td>\n",
       "      <td>152</td>\n",
       "      <td>580</td>\n",
       "      <td>1473</td>\n",
       "      <td>False</td>\n",
       "      <td>2020-12-12 20:17:19</td>\n",
       "      <td>Explain to me again why we need a vaccine @Bor...</td>\n",
       "      <td>['whereareallthesickpeople', 'PfizerBioNTech']</td>\n",
       "      <td>Twitter for iPhone</td>\n",
       "      <td>0</td>\n",
       "      <td>0</td>\n",
       "      <td>False</td>\n",
       "    </tr>\n",
       "  </tbody>\n",
       "</table>\n",
       "</div>"
      ],
      "text/plain": [
       "                    id             user_name              user_location  \\\n",
       "0  1340539111971516416            Rachel Roh  La Crescenta-Montrose, CA   \n",
       "1  1338158543359250433           Albert Fong          San Francisco, CA   \n",
       "2  1337858199140118533              eli🇱🇹🇪🇺👌                   Your Bed   \n",
       "3  1337855739918835717         Charles Adler     Vancouver, BC - Canada   \n",
       "4  1337854064604966912  Citizen News Channel                        NaN   \n",
       "\n",
       "                                    user_description         user_created  \\\n",
       "0  Aggregator of Asian American news; scanning di...  2009-04-08 17:52:46   \n",
       "1  Marketing dude, tech geek, heavy metal & '80s ...  2009-09-21 15:27:30   \n",
       "2                                     heil, hydra 🖐☺  2020-06-25 23:30:28   \n",
       "3  Hosting \"CharlesAdlerTonight\" Global News Radi...  2008-09-10 11:28:53   \n",
       "4  Citizen News Channel bringing you an alternati...  2020-04-23 17:58:42   \n",
       "\n",
       "   user_followers  user_friends  user_favourites  user_verified  \\\n",
       "0             405          1692             3247          False   \n",
       "1             834           666              178          False   \n",
       "2              10            88              155          False   \n",
       "3           49165          3933            21853           True   \n",
       "4             152           580             1473          False   \n",
       "\n",
       "                  date                                               text  \\\n",
       "0  2020-12-20 06:06:44  Same folks said daikon paste could treat a cyt...   \n",
       "1  2020-12-13 16:27:13  While the world has been on the wrong side of ...   \n",
       "2  2020-12-12 20:33:45  #coronavirus #SputnikV #AstraZeneca #PfizerBio...   \n",
       "3  2020-12-12 20:23:59  Facts are immutable, Senator, even when you're...   \n",
       "4  2020-12-12 20:17:19  Explain to me again why we need a vaccine @Bor...   \n",
       "\n",
       "                                            hashtags               source  \\\n",
       "0                                 ['PfizerBioNTech']  Twitter for Android   \n",
       "1                                                NaN      Twitter Web App   \n",
       "2  ['coronavirus', 'SputnikV', 'AstraZeneca', 'Pf...  Twitter for Android   \n",
       "3                                                NaN      Twitter Web App   \n",
       "4     ['whereareallthesickpeople', 'PfizerBioNTech']   Twitter for iPhone   \n",
       "\n",
       "   retweets  favorites  is_retweet  \n",
       "0         0          0       False  \n",
       "1         1          1       False  \n",
       "2         0          0       False  \n",
       "3       446       2129       False  \n",
       "4         0          0       False  "
      ]
     },
     "execution_count": 2,
     "metadata": {},
     "output_type": "execute_result"
    }
   ],
   "source": [
    "data = pd.read_csv('E:/PIP_Devmallya/Week_3/Problem_1/vaccination_all_tweets.csv')\n",
    "data.head()"
   ]
  },
  {
   "cell_type": "code",
   "execution_count": null,
   "id": "ee40ad09",
   "metadata": {},
   "outputs": [],
   "source": [
    "# Drop the duplicates tweets\n",
    "\n",
    "data = data.drop_duplicates('text')\n",
    "data.shape"
   ]
  },
  {
   "cell_type": "code",
   "execution_count": 4,
   "id": "fb71ee93",
   "metadata": {},
   "outputs": [
    {
     "data": {
      "text/html": [
       "<div>\n",
       "<style scoped>\n",
       "    .dataframe tbody tr th:only-of-type {\n",
       "        vertical-align: middle;\n",
       "    }\n",
       "\n",
       "    .dataframe tbody tr th {\n",
       "        vertical-align: top;\n",
       "    }\n",
       "\n",
       "    .dataframe thead th {\n",
       "        text-align: right;\n",
       "    }\n",
       "</style>\n",
       "<table border=\"1\" class=\"dataframe\">\n",
       "  <thead>\n",
       "    <tr style=\"text-align: right;\">\n",
       "      <th></th>\n",
       "      <th>text</th>\n",
       "    </tr>\n",
       "  </thead>\n",
       "  <tbody>\n",
       "    <tr>\n",
       "      <th>0</th>\n",
       "      <td>Same folks said daikon paste could treat a cyt...</td>\n",
       "    </tr>\n",
       "    <tr>\n",
       "      <th>1</th>\n",
       "      <td>While the world has been on the wrong side of ...</td>\n",
       "    </tr>\n",
       "    <tr>\n",
       "      <th>2</th>\n",
       "      <td>#coronavirus #SputnikV #AstraZeneca #PfizerBio...</td>\n",
       "    </tr>\n",
       "    <tr>\n",
       "      <th>3</th>\n",
       "      <td>Facts are immutable, Senator, even when you're...</td>\n",
       "    </tr>\n",
       "    <tr>\n",
       "      <th>4</th>\n",
       "      <td>Explain to me again why we need a vaccine @Bor...</td>\n",
       "    </tr>\n",
       "  </tbody>\n",
       "</table>\n",
       "</div>"
      ],
      "text/plain": [
       "                                                text\n",
       "0  Same folks said daikon paste could treat a cyt...\n",
       "1  While the world has been on the wrong side of ...\n",
       "2  #coronavirus #SputnikV #AstraZeneca #PfizerBio...\n",
       "3  Facts are immutable, Senator, even when you're...\n",
       "4  Explain to me again why we need a vaccine @Bor..."
      ]
     },
     "execution_count": 4,
     "metadata": {},
     "output_type": "execute_result"
    }
   ],
   "source": [
    "data.drop(columns={\"id\",\"user_name\",\"user_description\",\"user_created\",\"user_followers\", \"user_friends\",\"user_favourites\",\"user_verified\",\"hashtags\",\"source\",\"retweets\",\"favorites\",\"is_retweet\", \"user_location\", \"date\"},inplace=True)\n",
    "data.head()"
   ]
  },
  {
   "cell_type": "markdown",
   "id": "c4827189",
   "metadata": {},
   "source": [
    "# Data Preprocessing"
   ]
  },
  {
   "cell_type": "markdown",
   "id": "16b91268",
   "metadata": {},
   "source": [
    "    The following are the steps we'll take:\n",
    "\n",
    "    Split the text into sentences and the sentences into words using tokenization.\n",
    "\n",
    "    Remove all punctuation and lowercase the words.\n",
    "\n",
    "    Words with fewer than three characters are omitted.\n",
    "\n",
    "    All stopwords have been eliminated.\n",
    "\n",
    "    Words in the third person are changed to the first person, and verbs in the past and future tenses are changed to the present tense.\n",
    "\n",
    "    Words are stemmed, which means they are reduced to their simplest form."
   ]
  },
  {
   "cell_type": "code",
   "execution_count": 5,
   "id": "6986c767",
   "metadata": {},
   "outputs": [],
   "source": [
    "def remove_the_links(tweet):\n",
    "    '''Takes a string and removes web links from it'''\n",
    "    tweet = re.sub(r'http\\S+', '', tweet) # remove http links\n",
    "    tweet = re.sub(r'bit.ly/\\S+', '', tweet) # rempve bitly links\n",
    "    tweet = tweet.strip('[link]') # remove [links]\n",
    "    return tweet\n",
    "\n",
    "def remove_the_users(tweet):\n",
    "    '''Takes a string and removes retweet and @user information'''\n",
    "    tweet = re.sub('(RT\\s@[A-Za-z]+[A-Za-z0-9-_]+)', '', tweet) # remove retweet\n",
    "    tweet = re.sub('(@[A-Za-z]+[A-Za-z0-9-_]+)', '', tweet) # remove tweeted at\n",
    "    return tweet"
   ]
  },
  {
   "cell_type": "code",
   "execution_count": 6,
   "id": "424bd177",
   "metadata": {},
   "outputs": [
    {
     "data": {
      "text/html": [
       "<div>\n",
       "<style scoped>\n",
       "    .dataframe tbody tr th:only-of-type {\n",
       "        vertical-align: middle;\n",
       "    }\n",
       "\n",
       "    .dataframe tbody tr th {\n",
       "        vertical-align: top;\n",
       "    }\n",
       "\n",
       "    .dataframe thead th {\n",
       "        text-align: right;\n",
       "    }\n",
       "</style>\n",
       "<table border=\"1\" class=\"dataframe\">\n",
       "  <thead>\n",
       "    <tr style=\"text-align: right;\">\n",
       "      <th></th>\n",
       "      <th>text</th>\n",
       "      <th>clean_tweet</th>\n",
       "    </tr>\n",
       "  </thead>\n",
       "  <tbody>\n",
       "    <tr>\n",
       "      <th>0</th>\n",
       "      <td>Same folks said daikon paste could treat a cyt...</td>\n",
       "      <td>Same folks said daikon paste could treat a cyt...</td>\n",
       "    </tr>\n",
       "    <tr>\n",
       "      <th>1</th>\n",
       "      <td>While the world has been on the wrong side of ...</td>\n",
       "      <td>While the world has been on the wrong side of ...</td>\n",
       "    </tr>\n",
       "    <tr>\n",
       "      <th>2</th>\n",
       "      <td>#coronavirus #SputnikV #AstraZeneca #PfizerBio...</td>\n",
       "      <td>#coronavirus #SputnikV #AstraZeneca #PfizerBio...</td>\n",
       "    </tr>\n",
       "    <tr>\n",
       "      <th>3</th>\n",
       "      <td>Facts are immutable, Senator, even when you're...</td>\n",
       "      <td>Facts are immutable, Senator, even when you're...</td>\n",
       "    </tr>\n",
       "    <tr>\n",
       "      <th>4</th>\n",
       "      <td>Explain to me again why we need a vaccine @Bor...</td>\n",
       "      <td>Explain to me again why we need a vaccine @Bor...</td>\n",
       "    </tr>\n",
       "  </tbody>\n",
       "</table>\n",
       "</div>"
      ],
      "text/plain": [
       "                                                text  \\\n",
       "0  Same folks said daikon paste could treat a cyt...   \n",
       "1  While the world has been on the wrong side of ...   \n",
       "2  #coronavirus #SputnikV #AstraZeneca #PfizerBio...   \n",
       "3  Facts are immutable, Senator, even when you're...   \n",
       "4  Explain to me again why we need a vaccine @Bor...   \n",
       "\n",
       "                                         clean_tweet  \n",
       "0  Same folks said daikon paste could treat a cyt...  \n",
       "1  While the world has been on the wrong side of ...  \n",
       "2  #coronavirus #SputnikV #AstraZeneca #PfizerBio...  \n",
       "3  Facts are immutable, Senator, even when you're...  \n",
       "4  Explain to me again why we need a vaccine @Bor...  "
      ]
     },
     "execution_count": 6,
     "metadata": {},
     "output_type": "execute_result"
    }
   ],
   "source": [
    "data['clean_tweet'] = data.text.apply(remove_the_links)\n",
    "data.head()"
   ]
  },
  {
   "cell_type": "code",
   "execution_count": 7,
   "id": "e509aff6",
   "metadata": {},
   "outputs": [
    {
     "data": {
      "text/html": [
       "<div>\n",
       "<style scoped>\n",
       "    .dataframe tbody tr th:only-of-type {\n",
       "        vertical-align: middle;\n",
       "    }\n",
       "\n",
       "    .dataframe tbody tr th {\n",
       "        vertical-align: top;\n",
       "    }\n",
       "\n",
       "    .dataframe thead th {\n",
       "        text-align: right;\n",
       "    }\n",
       "</style>\n",
       "<table border=\"1\" class=\"dataframe\">\n",
       "  <thead>\n",
       "    <tr style=\"text-align: right;\">\n",
       "      <th></th>\n",
       "      <th>text</th>\n",
       "      <th>clean_tweet</th>\n",
       "    </tr>\n",
       "  </thead>\n",
       "  <tbody>\n",
       "    <tr>\n",
       "      <th>0</th>\n",
       "      <td>Same folks said daikon paste could treat a cyt...</td>\n",
       "      <td>Same folks said daikon paste could treat a cyt...</td>\n",
       "    </tr>\n",
       "    <tr>\n",
       "      <th>1</th>\n",
       "      <td>While the world has been on the wrong side of ...</td>\n",
       "      <td>While the world has been on the wrong side of ...</td>\n",
       "    </tr>\n",
       "    <tr>\n",
       "      <th>2</th>\n",
       "      <td>#coronavirus #SputnikV #AstraZeneca #PfizerBio...</td>\n",
       "      <td>#coronavirus #SputnikV #AstraZeneca #PfizerBio...</td>\n",
       "    </tr>\n",
       "    <tr>\n",
       "      <th>3</th>\n",
       "      <td>Facts are immutable, Senator, even when you're...</td>\n",
       "      <td>Facts are immutable, Senator, even when you're...</td>\n",
       "    </tr>\n",
       "    <tr>\n",
       "      <th>4</th>\n",
       "      <td>Explain to me again why we need a vaccine @Bor...</td>\n",
       "      <td>Explain to me again why we need a vaccine   #w...</td>\n",
       "    </tr>\n",
       "  </tbody>\n",
       "</table>\n",
       "</div>"
      ],
      "text/plain": [
       "                                                text  \\\n",
       "0  Same folks said daikon paste could treat a cyt...   \n",
       "1  While the world has been on the wrong side of ...   \n",
       "2  #coronavirus #SputnikV #AstraZeneca #PfizerBio...   \n",
       "3  Facts are immutable, Senator, even when you're...   \n",
       "4  Explain to me again why we need a vaccine @Bor...   \n",
       "\n",
       "                                         clean_tweet  \n",
       "0  Same folks said daikon paste could treat a cyt...  \n",
       "1  While the world has been on the wrong side of ...  \n",
       "2  #coronavirus #SputnikV #AstraZeneca #PfizerBio...  \n",
       "3  Facts are immutable, Senator, even when you're...  \n",
       "4  Explain to me again why we need a vaccine   #w...  "
      ]
     },
     "execution_count": 7,
     "metadata": {},
     "output_type": "execute_result"
    }
   ],
   "source": [
    "data['clean_tweet'] = data['clean_tweet'].apply(remove_the_users)\n",
    "data.head()"
   ]
  },
  {
   "cell_type": "code",
   "execution_count": 8,
   "id": "bc59b600",
   "metadata": {},
   "outputs": [],
   "source": [
    "my_punctuation = '!\"$%&\\'()*+,-./:;<=>?[\\\\]^_`{|}~•@'\n",
    "\n",
    "# cleaning master function\n",
    "def clean_tweet(tweet):\n",
    "    tweet = tweet.lower() # lower case\n",
    "    tweet = re.sub('['+my_punctuation + ']+', ' ', tweet) # strip punctuation\n",
    "    tweet = re.sub('\\s+', ' ', tweet) #remove double spacing\n",
    "    tweet = re.sub('([0-9]+)', '', tweet) # remove numbers\n",
    "    return tweet"
   ]
  },
  {
   "cell_type": "code",
   "execution_count": 9,
   "id": "37ce5a8a",
   "metadata": {},
   "outputs": [
    {
     "data": {
      "text/html": [
       "<div>\n",
       "<style scoped>\n",
       "    .dataframe tbody tr th:only-of-type {\n",
       "        vertical-align: middle;\n",
       "    }\n",
       "\n",
       "    .dataframe tbody tr th {\n",
       "        vertical-align: top;\n",
       "    }\n",
       "\n",
       "    .dataframe thead th {\n",
       "        text-align: right;\n",
       "    }\n",
       "</style>\n",
       "<table border=\"1\" class=\"dataframe\">\n",
       "  <thead>\n",
       "    <tr style=\"text-align: right;\">\n",
       "      <th></th>\n",
       "      <th>text</th>\n",
       "      <th>clean_tweet</th>\n",
       "    </tr>\n",
       "  </thead>\n",
       "  <tbody>\n",
       "    <tr>\n",
       "      <th>0</th>\n",
       "      <td>Same folks said daikon paste could treat a cyt...</td>\n",
       "      <td>same folks said daikon paste could treat a cyt...</td>\n",
       "    </tr>\n",
       "    <tr>\n",
       "      <th>1</th>\n",
       "      <td>While the world has been on the wrong side of ...</td>\n",
       "      <td>while the world has been on the wrong side of ...</td>\n",
       "    </tr>\n",
       "    <tr>\n",
       "      <th>2</th>\n",
       "      <td>#coronavirus #SputnikV #AstraZeneca #PfizerBio...</td>\n",
       "      <td>#coronavirus #sputnikv #astrazeneca #pfizerbio...</td>\n",
       "    </tr>\n",
       "    <tr>\n",
       "      <th>3</th>\n",
       "      <td>Facts are immutable, Senator, even when you're...</td>\n",
       "      <td>facts are immutable senator even when you re n...</td>\n",
       "    </tr>\n",
       "    <tr>\n",
       "      <th>4</th>\n",
       "      <td>Explain to me again why we need a vaccine @Bor...</td>\n",
       "      <td>explain to me again why we need a vaccine #whe...</td>\n",
       "    </tr>\n",
       "  </tbody>\n",
       "</table>\n",
       "</div>"
      ],
      "text/plain": [
       "                                                text  \\\n",
       "0  Same folks said daikon paste could treat a cyt...   \n",
       "1  While the world has been on the wrong side of ...   \n",
       "2  #coronavirus #SputnikV #AstraZeneca #PfizerBio...   \n",
       "3  Facts are immutable, Senator, even when you're...   \n",
       "4  Explain to me again why we need a vaccine @Bor...   \n",
       "\n",
       "                                         clean_tweet  \n",
       "0  same folks said daikon paste could treat a cyt...  \n",
       "1  while the world has been on the wrong side of ...  \n",
       "2  #coronavirus #sputnikv #astrazeneca #pfizerbio...  \n",
       "3  facts are immutable senator even when you re n...  \n",
       "4  explain to me again why we need a vaccine #whe...  "
      ]
     },
     "execution_count": 9,
     "metadata": {},
     "output_type": "execute_result"
    }
   ],
   "source": [
    "data['clean_tweet'] = data['clean_tweet'].apply(clean_tweet)\n",
    "data.head()"
   ]
  },
  {
   "cell_type": "code",
   "execution_count": 10,
   "id": "17796e5b",
   "metadata": {},
   "outputs": [
    {
     "data": {
      "text/html": [
       "<div>\n",
       "<style scoped>\n",
       "    .dataframe tbody tr th:only-of-type {\n",
       "        vertical-align: middle;\n",
       "    }\n",
       "\n",
       "    .dataframe tbody tr th {\n",
       "        vertical-align: top;\n",
       "    }\n",
       "\n",
       "    .dataframe thead th {\n",
       "        text-align: right;\n",
       "    }\n",
       "</style>\n",
       "<table border=\"1\" class=\"dataframe\">\n",
       "  <thead>\n",
       "    <tr style=\"text-align: right;\">\n",
       "      <th></th>\n",
       "      <th>text</th>\n",
       "      <th>clean_tweet</th>\n",
       "    </tr>\n",
       "  </thead>\n",
       "  <tbody>\n",
       "    <tr>\n",
       "      <th>0</th>\n",
       "      <td>Same folks said daikon paste could treat a cyt...</td>\n",
       "      <td>same folks said daikon paste could treat a cyt...</td>\n",
       "    </tr>\n",
       "    <tr>\n",
       "      <th>1</th>\n",
       "      <td>While the world has been on the wrong side of ...</td>\n",
       "      <td>while the world has been on the wrong side of ...</td>\n",
       "    </tr>\n",
       "    <tr>\n",
       "      <th>2</th>\n",
       "      <td>#coronavirus #SputnikV #AstraZeneca #PfizerBio...</td>\n",
       "      <td>russian vaccine is created to las...</td>\n",
       "    </tr>\n",
       "    <tr>\n",
       "      <th>3</th>\n",
       "      <td>Facts are immutable, Senator, even when you're...</td>\n",
       "      <td>facts are immutable senator even when you re n...</td>\n",
       "    </tr>\n",
       "    <tr>\n",
       "      <th>4</th>\n",
       "      <td>Explain to me again why we need a vaccine @Bor...</td>\n",
       "      <td>explain to me again why we need a vaccine</td>\n",
       "    </tr>\n",
       "  </tbody>\n",
       "</table>\n",
       "</div>"
      ],
      "text/plain": [
       "                                                text  \\\n",
       "0  Same folks said daikon paste could treat a cyt...   \n",
       "1  While the world has been on the wrong side of ...   \n",
       "2  #coronavirus #SputnikV #AstraZeneca #PfizerBio...   \n",
       "3  Facts are immutable, Senator, even when you're...   \n",
       "4  Explain to me again why we need a vaccine @Bor...   \n",
       "\n",
       "                                         clean_tweet  \n",
       "0  same folks said daikon paste could treat a cyt...  \n",
       "1  while the world has been on the wrong side of ...  \n",
       "2               russian vaccine is created to las...  \n",
       "3  facts are immutable senator even when you re n...  \n",
       "4     explain to me again why we need a vaccine       "
      ]
     },
     "execution_count": 10,
     "metadata": {},
     "output_type": "execute_result"
    }
   ],
   "source": [
    "# Removing hastags\n",
    "import neattext as ntx\n",
    "data['clean_tweet'] = data['clean_tweet'].apply(ntx.remove_hashtags)\n",
    "data.head()"
   ]
  },
  {
   "cell_type": "code",
   "execution_count": 11,
   "id": "422fffde",
   "metadata": {},
   "outputs": [
    {
     "data": {
      "text/plain": [
       "'same folks said daikon paste could treat a cytokine storm   '"
      ]
     },
     "execution_count": 11,
     "metadata": {},
     "output_type": "execute_result"
    }
   ],
   "source": [
    "data['clean_tweet'][0]"
   ]
  },
  {
   "cell_type": "code",
   "execution_count": 13,
   "id": "7abca693",
   "metadata": {},
   "outputs": [
    {
     "data": {
      "text/html": [
       "<div>\n",
       "<style scoped>\n",
       "    .dataframe tbody tr th:only-of-type {\n",
       "        vertical-align: middle;\n",
       "    }\n",
       "\n",
       "    .dataframe tbody tr th {\n",
       "        vertical-align: top;\n",
       "    }\n",
       "\n",
       "    .dataframe thead th {\n",
       "        text-align: right;\n",
       "    }\n",
       "</style>\n",
       "<table border=\"1\" class=\"dataframe\">\n",
       "  <thead>\n",
       "    <tr style=\"text-align: right;\">\n",
       "      <th></th>\n",
       "      <th>text</th>\n",
       "      <th>clean_tweet</th>\n",
       "    </tr>\n",
       "  </thead>\n",
       "  <tbody>\n",
       "    <tr>\n",
       "      <th>0</th>\n",
       "      <td>Same folks said daikon paste could treat a cyt...</td>\n",
       "      <td>same folks said daikon paste could treat a cyt...</td>\n",
       "    </tr>\n",
       "    <tr>\n",
       "      <th>1</th>\n",
       "      <td>While the world has been on the wrong side of ...</td>\n",
       "      <td>while the world has been on the wrong side of ...</td>\n",
       "    </tr>\n",
       "    <tr>\n",
       "      <th>2</th>\n",
       "      <td>#coronavirus #SputnikV #AstraZeneca #PfizerBio...</td>\n",
       "      <td>russian vaccine is created to las...</td>\n",
       "    </tr>\n",
       "    <tr>\n",
       "      <th>3</th>\n",
       "      <td>Facts are immutable, Senator, even when you're...</td>\n",
       "      <td>facts are immutable senator even when you re n...</td>\n",
       "    </tr>\n",
       "    <tr>\n",
       "      <th>4</th>\n",
       "      <td>Explain to me again why we need a vaccine @Bor...</td>\n",
       "      <td>explain to me again why we need a vaccine</td>\n",
       "    </tr>\n",
       "  </tbody>\n",
       "</table>\n",
       "</div>"
      ],
      "text/plain": [
       "                                                text  \\\n",
       "0  Same folks said daikon paste could treat a cyt...   \n",
       "1  While the world has been on the wrong side of ...   \n",
       "2  #coronavirus #SputnikV #AstraZeneca #PfizerBio...   \n",
       "3  Facts are immutable, Senator, even when you're...   \n",
       "4  Explain to me again why we need a vaccine @Bor...   \n",
       "\n",
       "                                         clean_tweet  \n",
       "0  same folks said daikon paste could treat a cyt...  \n",
       "1  while the world has been on the wrong side of ...  \n",
       "2               russian vaccine is created to las...  \n",
       "3  facts are immutable senator even when you re n...  \n",
       "4          explain to me again why we need a vaccine  "
      ]
     },
     "execution_count": 13,
     "metadata": {},
     "output_type": "execute_result"
    }
   ],
   "source": [
    "data[\"clean_tweet\"] = data[\"clean_tweet\"].apply(lambda x: x.rstrip())\n",
    "data.head()"
   ]
  },
  {
   "cell_type": "code",
   "execution_count": 14,
   "id": "b71f6303",
   "metadata": {},
   "outputs": [
    {
     "data": {
      "text/plain": [
       "'same folks said daikon paste could treat a cytokine storm'"
      ]
     },
     "execution_count": 14,
     "metadata": {},
     "output_type": "execute_result"
    }
   ],
   "source": [
    "data['clean_tweet'][0]"
   ]
  },
  {
   "cell_type": "markdown",
   "id": "c53878a3",
   "metadata": {},
   "source": [
    "    Create a function to preprocess the data set by lemmatizing and stemming it."
   ]
  },
  {
   "cell_type": "code",
   "execution_count": 36,
   "id": "d184b81a",
   "metadata": {},
   "outputs": [],
   "source": [
    "def lemmatize_stemming(text):\n",
    "    stemmer = SnowballStemmer('english')\n",
    "    return stemmer.stem(WordNetLemmatizer().lemmatize(text, pos='v'))\n",
    "\n",
    "def preprocess(text):\n",
    "    result = []\n",
    "    for token in gensim.utils.simple_preprocess(text):\n",
    "        if token not in gensim.parsing.preprocessing.STOPWORDS and len(token) > 3:\n",
    "            result.append(lemmatize_stemming(token))\n",
    "    return result"
   ]
  },
  {
   "cell_type": "code",
   "execution_count": 37,
   "id": "2481c63f",
   "metadata": {},
   "outputs": [
    {
     "data": {
      "text/html": [
       "<div>\n",
       "<style scoped>\n",
       "    .dataframe tbody tr th:only-of-type {\n",
       "        vertical-align: middle;\n",
       "    }\n",
       "\n",
       "    .dataframe tbody tr th {\n",
       "        vertical-align: top;\n",
       "    }\n",
       "\n",
       "    .dataframe thead th {\n",
       "        text-align: right;\n",
       "    }\n",
       "</style>\n",
       "<table border=\"1\" class=\"dataframe\">\n",
       "  <thead>\n",
       "    <tr style=\"text-align: right;\">\n",
       "      <th></th>\n",
       "      <th>text</th>\n",
       "      <th>clean_tweet</th>\n",
       "      <th>index</th>\n",
       "    </tr>\n",
       "  </thead>\n",
       "  <tbody>\n",
       "    <tr>\n",
       "      <th>0</th>\n",
       "      <td>Same folks said daikon paste could treat a cyt...</td>\n",
       "      <td>same folks said daikon paste could treat a cyt...</td>\n",
       "      <td>0</td>\n",
       "    </tr>\n",
       "    <tr>\n",
       "      <th>1</th>\n",
       "      <td>While the world has been on the wrong side of ...</td>\n",
       "      <td>while the world has been on the wrong side of ...</td>\n",
       "      <td>1</td>\n",
       "    </tr>\n",
       "    <tr>\n",
       "      <th>2</th>\n",
       "      <td>#coronavirus #SputnikV #AstraZeneca #PfizerBio...</td>\n",
       "      <td>russian vaccine is created to las...</td>\n",
       "      <td>2</td>\n",
       "    </tr>\n",
       "    <tr>\n",
       "      <th>3</th>\n",
       "      <td>Facts are immutable, Senator, even when you're...</td>\n",
       "      <td>facts are immutable senator even when you re n...</td>\n",
       "      <td>3</td>\n",
       "    </tr>\n",
       "    <tr>\n",
       "      <th>4</th>\n",
       "      <td>Explain to me again why we need a vaccine @Bor...</td>\n",
       "      <td>explain to me again why we need a vaccine</td>\n",
       "      <td>4</td>\n",
       "    </tr>\n",
       "  </tbody>\n",
       "</table>\n",
       "</div>"
      ],
      "text/plain": [
       "                                                text  \\\n",
       "0  Same folks said daikon paste could treat a cyt...   \n",
       "1  While the world has been on the wrong side of ...   \n",
       "2  #coronavirus #SputnikV #AstraZeneca #PfizerBio...   \n",
       "3  Facts are immutable, Senator, even when you're...   \n",
       "4  Explain to me again why we need a vaccine @Bor...   \n",
       "\n",
       "                                         clean_tweet  index  \n",
       "0  same folks said daikon paste could treat a cyt...      0  \n",
       "1  while the world has been on the wrong side of ...      1  \n",
       "2               russian vaccine is created to las...      2  \n",
       "3  facts are immutable senator even when you re n...      3  \n",
       "4          explain to me again why we need a vaccine      4  "
      ]
     },
     "execution_count": 37,
     "metadata": {},
     "output_type": "execute_result"
    }
   ],
   "source": [
    "data['index'] = data.index\n",
    "data.head()"
   ]
  },
  {
   "cell_type": "code",
   "execution_count": 38,
   "id": "6159d9cb",
   "metadata": {},
   "outputs": [
    {
     "data": {
      "text/html": [
       "<div>\n",
       "<style scoped>\n",
       "    .dataframe tbody tr th:only-of-type {\n",
       "        vertical-align: middle;\n",
       "    }\n",
       "\n",
       "    .dataframe tbody tr th {\n",
       "        vertical-align: top;\n",
       "    }\n",
       "\n",
       "    .dataframe thead th {\n",
       "        text-align: right;\n",
       "    }\n",
       "</style>\n",
       "<table border=\"1\" class=\"dataframe\">\n",
       "  <thead>\n",
       "    <tr style=\"text-align: right;\">\n",
       "      <th></th>\n",
       "      <th>clean_tweet</th>\n",
       "      <th>index</th>\n",
       "    </tr>\n",
       "  </thead>\n",
       "  <tbody>\n",
       "    <tr>\n",
       "      <th>0</th>\n",
       "      <td>same folks said daikon paste could treat a cyt...</td>\n",
       "      <td>0</td>\n",
       "    </tr>\n",
       "    <tr>\n",
       "      <th>1</th>\n",
       "      <td>while the world has been on the wrong side of ...</td>\n",
       "      <td>1</td>\n",
       "    </tr>\n",
       "    <tr>\n",
       "      <th>2</th>\n",
       "      <td>russian vaccine is created to las...</td>\n",
       "      <td>2</td>\n",
       "    </tr>\n",
       "    <tr>\n",
       "      <th>3</th>\n",
       "      <td>facts are immutable senator even when you re n...</td>\n",
       "      <td>3</td>\n",
       "    </tr>\n",
       "    <tr>\n",
       "      <th>4</th>\n",
       "      <td>explain to me again why we need a vaccine</td>\n",
       "      <td>4</td>\n",
       "    </tr>\n",
       "  </tbody>\n",
       "</table>\n",
       "</div>"
      ],
      "text/plain": [
       "                                         clean_tweet  index\n",
       "0  same folks said daikon paste could treat a cyt...      0\n",
       "1  while the world has been on the wrong side of ...      1\n",
       "2               russian vaccine is created to las...      2\n",
       "3  facts are immutable senator even when you re n...      3\n",
       "4          explain to me again why we need a vaccine      4"
      ]
     },
     "execution_count": 38,
     "metadata": {},
     "output_type": "execute_result"
    }
   ],
   "source": [
    "data.drop(columns={\"text\"},inplace=True)\n",
    "data.head()"
   ]
  },
  {
   "cell_type": "code",
   "execution_count": 48,
   "id": "971b30b8",
   "metadata": {},
   "outputs": [
    {
     "name": "stdout",
     "output_type": "stream",
     "text": [
      "226373\n"
     ]
    }
   ],
   "source": [
    "print(len(data['index']))"
   ]
  },
  {
   "cell_type": "markdown",
   "id": "63f34348",
   "metadata": {},
   "source": [
    "    Select a data to preview after preprocessing."
   ]
  },
  {
   "cell_type": "code",
   "execution_count": 52,
   "id": "f69ba339",
   "metadata": {},
   "outputs": [
    {
     "name": "stdout",
     "output_type": "stream",
     "text": [
      "original document: \n",
      "['did', 'you', 'know', 'every', '', 'seconds', 'one', 'woman', 'dies', 'during', 'pregnancy', 'or', 'childbirth']\n",
      "\n",
      "\n",
      " tokenized and lemmatized document: \n",
      "['know', 'second', 'woman', 'die', 'pregnanc', 'childbirth']\n"
     ]
    }
   ],
   "source": [
    "doc_sample = data[data['index'] == 220000].values[0][0]\n",
    "\n",
    "print('original document: ')\n",
    "words = []\n",
    "for word in doc_sample.split(' '):\n",
    "    words.append(word)\n",
    "print(words)\n",
    "print('\\n\\n tokenized and lemmatized document: ')\n",
    "print(preprocess(doc_sample))"
   ]
  },
  {
   "cell_type": "markdown",
   "id": "dac6b699",
   "metadata": {},
   "source": [
    "    Save the results as 'processed docs' after preprocessing the headline clean tweet."
   ]
  },
  {
   "cell_type": "code",
   "execution_count": 53,
   "id": "f2c877d2",
   "metadata": {},
   "outputs": [],
   "source": [
    "processed_docs = data['clean_tweet'].map(preprocess)"
   ]
  },
  {
   "cell_type": "code",
   "execution_count": 54,
   "id": "14a79d1b",
   "metadata": {},
   "outputs": [
    {
     "data": {
      "text/plain": [
       "0     [folk, say, daikon, past, treat, cytokin, storm]\n",
       "1    [world, wrong, histori, year, hope, biggest, v...\n",
       "2                       [russian, vaccin, creat, year]\n",
       "3    [fact, immut, senat, ethic, sturdi, acknowledg...\n",
       "4                              [explain, need, vaccin]\n",
       "5    [use, advic, guidanc, covid, vaccin, safe, whi...\n",
       "6    [claim, fame, success, patriot, competit, canada]\n",
       "7                             [bright, day, best, win]\n",
       "8                                 [covid, vaccin, get]\n",
       "9                     [state, start, get, monday, say]\n",
       "Name: clean_tweet, dtype: object"
      ]
     },
     "execution_count": 54,
     "metadata": {},
     "output_type": "execute_result"
    }
   ],
   "source": [
    "processed_docs[:10]"
   ]
  },
  {
   "cell_type": "markdown",
   "id": "78655dca",
   "metadata": {},
   "source": [
    "# Word Cloud Visualization"
   ]
  },
  {
   "cell_type": "code",
   "execution_count": 55,
   "id": "e3c50e18",
   "metadata": {},
   "outputs": [
    {
     "data": {
      "image/png": "[encoded data removed]",
      "text/plain": [
       "<PIL.Image.Image image mode=RGB size=400x200 at 0x1FD034B6A90>"
      ]
     },
     "execution_count": 55,
     "metadata": {},
     "output_type": "execute_result"
    }
   ],
   "source": [
    "# Import the wordcloud library\n",
    "from wordcloud import WordCloud\n",
    "# Join the different processed titles together.\n",
    "long_string = ','.join(list(data['clean_tweet'].values))\n",
    "# Create a WordCloud object\n",
    "wordcloud = WordCloud(background_color=\"white\", max_words=5000, contour_width=3, contour_color='steelblue')\n",
    "# Generate a word cloud\n",
    "wordcloud.generate(long_string)\n",
    "# Visualize the word cloud\n",
    "wordcloud.to_image()"
   ]
  },
  {
   "cell_type": "markdown",
   "id": "9da9578b",
   "metadata": {},
   "source": [
    "# Bag of words on the dataset"
   ]
  },
  {
   "cell_type": "markdown",
   "id": "8147e7f5",
   "metadata": {},
   "source": [
    "    Made a dictionary containing the number of times each term appears in the 'processed documents' folder's training set."
   ]
  },
  {
   "cell_type": "code",
   "execution_count": 56,
   "id": "2fdbad0b",
   "metadata": {},
   "outputs": [],
   "source": [
    "dictionary = gensim.corpora.Dictionary(processed_docs)"
   ]
  },
  {
   "cell_type": "code",
   "execution_count": 57,
   "id": "374099fe",
   "metadata": {},
   "outputs": [
    {
     "name": "stdout",
     "output_type": "stream",
     "text": [
      "0 cytokin\n",
      "1 daikon\n",
      "2 folk\n",
      "3 past\n",
      "4 say\n",
      "5 storm\n",
      "6 treat\n",
      "7 biggest\n",
      "8 effort\n",
      "9 histori\n",
      "10 hope\n"
     ]
    }
   ],
   "source": [
    "count = 0\n",
    "for k, v in dictionary.iteritems():\n",
    "    print(k, v)\n",
    "    count += 1\n",
    "    if count > 10:\n",
    "        break"
   ]
  },
  {
   "cell_type": "code",
   "execution_count": 58,
   "id": "d45a8ae0",
   "metadata": {},
   "outputs": [],
   "source": [
    "dictionary.filter_extremes(no_below=15, no_above=0.5, keep_n=100000)"
   ]
  },
  {
   "cell_type": "markdown",
   "id": "0652f75d",
   "metadata": {},
   "source": [
    "    We generate a dictionary for each text that reports how many words and how many times those terms occur. Save this to 'bow corpus,' and then double-check the document we chose earlier."
   ]
  },
  {
   "cell_type": "code",
   "execution_count": 59,
   "id": "cd5d3cb7",
   "metadata": {},
   "outputs": [
    {
     "data": {
      "text/plain": [
       "[(510, 1), (671, 1), (1956, 2), (2042, 1), (3498, 1)]"
      ]
     },
     "execution_count": 59,
     "metadata": {},
     "output_type": "execute_result"
    }
   ],
   "source": [
    "bow_corpus = [dictionary.doc2bow(doc) for doc in processed_docs]\n",
    "bow_corpus[220000]"
   ]
  },
  {
   "cell_type": "code",
   "execution_count": 62,
   "id": "499ccbba",
   "metadata": {},
   "outputs": [
    {
     "name": "stdout",
     "output_type": "stream",
     "text": [
      "Word 9 (\"vaccin\") appears 1 time.\n",
      "Word 46 (\"peopl\") appears 1 time.\n",
      "Word 82 (\"deliv\") appears 1 time.\n",
      "Word 221 (\"number\") appears 1 time.\n",
      "Word 408 (\"live\") appears 1 time.\n",
      "Word 566 (\"forget\") appears 1 time.\n",
      "Word 1130 (\"play\") appears 1 time.\n",
      "Word 1251 (\"focus\") appears 1 time.\n"
     ]
    }
   ],
   "source": [
    "bow_doc_4310 = bow_corpus[4310]\n",
    "\n",
    "for i in range(len(bow_doc_4310)):\n",
    "    print(\"Word {} (\\\"{}\\\") appears {} time.\".format(bow_doc_4310[i][0], \n",
    "                                                     dictionary[bow_doc_4310[i][0]], \n",
    "                                                     bow_doc_4310[i][1]))"
   ]
  },
  {
   "cell_type": "markdown",
   "id": "cf2134f8",
   "metadata": {},
   "source": [
    "# TF-IDF"
   ]
  },
  {
   "cell_type": "markdown",
   "id": "ed7539b5",
   "metadata": {},
   "source": [
    "    Using models, create a tf-idf model object. Apply TfidfModel to 'bow corpus' and save it as 'tfidf', then change the full corpus and name it 'corpus tfidf'. Finally, we look at our first document's TF-IDF scores."
   ]
  },
  {
   "cell_type": "code",
   "execution_count": 63,
   "id": "a4577940",
   "metadata": {},
   "outputs": [],
   "source": [
    "from gensim import corpora, models\n",
    "\n",
    "tfidf = models.TfidfModel(bow_corpus)"
   ]
  },
  {
   "cell_type": "code",
   "execution_count": 64,
   "id": "785cd63e",
   "metadata": {},
   "outputs": [],
   "source": [
    "corpus_tfidf = tfidf[bow_corpus]"
   ]
  },
  {
   "cell_type": "code",
   "execution_count": 65,
   "id": "3cb4f8b9",
   "metadata": {},
   "outputs": [
    {
     "name": "stdout",
     "output_type": "stream",
     "text": [
      "[(0, 0.42339823458693265),\n",
      " (1, 0.42112256575478146),\n",
      " (2, 0.23341418421690635),\n",
      " (3, 0.5952346596625869),\n",
      " (4, 0.48435858421576344)]\n"
     ]
    }
   ],
   "source": [
    "from pprint import pprint\n",
    "\n",
    "for doc in corpus_tfidf:\n",
    "    pprint(doc)\n",
    "    break"
   ]
  },
  {
   "cell_type": "markdown",
   "id": "81080e2e",
   "metadata": {},
   "source": [
    "# Running LDA using Bag of Words"
   ]
  },
  {
   "cell_type": "code",
   "execution_count": 66,
   "id": "dd1b4396",
   "metadata": {},
   "outputs": [],
   "source": [
    "lda_model = gensim.models.LdaMulticore(bow_corpus, num_topics=10, id2word=dictionary, passes=2, workers=2)"
   ]
  },
  {
   "cell_type": "markdown",
   "id": "054ebdbf",
   "metadata": {},
   "source": [
    "    We'll look at the terms that appear in each topic and their respective weight."
   ]
  },
  {
   "cell_type": "code",
   "execution_count": 67,
   "id": "5207e0b0",
   "metadata": {},
   "outputs": [
    {
     "name": "stdout",
     "output_type": "stream",
     "text": [
      "Topic: 0 \n",
      "Words: 0.179*\"pincod\" + 0.120*\"dose\" + 0.101*\"vaccin\" + 0.034*\"thank\" + 0.030*\"fulli\" + 0.026*\"today\" + 0.022*\"wait\" + 0.021*\"million\" + 0.018*\"receiv\" + 0.018*\"final\"\n",
      "Topic: 1 \n",
      "Words: 0.090*\"vaccin\" + 0.056*\"year\" + 0.040*\"avail\" + 0.028*\"day\" + 0.025*\"receiv\" + 0.024*\"best\" + 0.018*\"die\" + 0.015*\"covid\" + 0.013*\"peopl\" + 0.012*\"take\"\n",
      "Topic: 2 \n",
      "Words: 0.112*\"approv\" + 0.059*\"vaccin\" + 0.042*\"health\" + 0.029*\"emerg\" + 0.021*\"countri\" + 0.019*\"covid\" + 0.018*\"author\" + 0.015*\"india\" + 0.014*\"boost\" + 0.013*\"grant\"\n",
      "Topic: 3 \n",
      "Words: 0.196*\"covaxin\" + 0.176*\"date\" + 0.170*\"fee\" + 0.045*\"dose\" + 0.029*\"report\" + 0.027*\"case\" + 0.017*\"canada\" + 0.011*\"rxdx\" + 0.008*\"aarthi\" + 0.007*\"open\"\n",
      "Topic: 4 \n",
      "Words: 0.301*\"slot\" + 0.188*\"dose\" + 0.118*\"free\" + 0.095*\"avail\" + 0.059*\"pay\" + 0.012*\"feel\" + 0.009*\"road\" + 0.007*\"hour\" + 0.007*\"shoot\" + 0.007*\"sore\"\n",
      "Topic: 5 \n",
      "Words: 0.105*\"age\" + 0.072*\"vaccin\" + 0.032*\"peopl\" + 0.031*\"need\" + 0.022*\"covid\" + 0.020*\"like\" + 0.017*\"kid\" + 0.015*\"pfizer\" + 0.014*\"moderna\" + 0.014*\"mrna\"\n",
      "Topic: 6 \n",
      "Words: 0.051*\"approv\" + 0.048*\"vaccin\" + 0.042*\"india\" + 0.027*\"covaxin\" + 0.027*\"biotech\" + 0.026*\"bharat\" + 0.020*\"data\" + 0.018*\"covid\" + 0.016*\"list\" + 0.016*\"ocgn\"\n",
      "Topic: 7 \n",
      "Words: 0.246*\"dose\" + 0.100*\"hospit\" + 0.055*\"apollo\" + 0.038*\"second\" + 0.033*\"covaxin\" + 0.026*\"hosp\" + 0.016*\"mask\" + 0.014*\"complet\" + 0.013*\"wear\" + 0.012*\"vaxx\"\n",
      "Topic: 8 \n",
      "Words: 0.041*\"vaccin\" + 0.032*\"good\" + 0.032*\"news\" + 0.030*\"ocgn\" + 0.017*\"effect\" + 0.015*\"great\" + 0.013*\"variant\" + 0.012*\"delta\" + 0.011*\"updat\" + 0.011*\"mrna\"\n",
      "Topic: 9 \n",
      "Words: 0.102*\"booster\" + 0.048*\"vaccin\" + 0.040*\"shoot\" + 0.030*\"clinic\" + 0.029*\"sputnik\" + 0.027*\"week\" + 0.026*\"travel\" + 0.023*\"moderna\" + 0.022*\"covid\" + 0.021*\"shot\"\n"
     ]
    }
   ],
   "source": [
    "for idx, topic in lda_model.print_topics(-1):\n",
    "    print('Topic: {} \\nWords: {}'.format(idx, topic))"
   ]
  },
  {
   "cell_type": "markdown",
   "id": "0654a268",
   "metadata": {},
   "source": [
    "# Running LDA using TF-IDF"
   ]
  },
  {
   "cell_type": "code",
   "execution_count": 68,
   "id": "0946b0a3",
   "metadata": {},
   "outputs": [],
   "source": [
    "lda_model_tfidf = gensim.models.LdaMulticore(corpus_tfidf, num_topics=10, id2word=dictionary, passes=2, workers=4)"
   ]
  },
  {
   "cell_type": "code",
   "execution_count": 69,
   "id": "334e62fd",
   "metadata": {},
   "outputs": [
    {
     "name": "stdout",
     "output_type": "stream",
     "text": [
      "Topic: 0 Word: 0.022*\"effect\" + 0.016*\"studi\" + 0.016*\"vaccin\" + 0.013*\"covid\" + 0.012*\"data\" + 0.012*\"efficaci\" + 0.012*\"variant\" + 0.011*\"trial\" + 0.011*\"delta\" + 0.010*\"show\"\n",
      "Topic: 1 Word: 0.135*\"slot\" + 0.101*\"dose\" + 0.087*\"free\" + 0.075*\"avail\" + 0.059*\"covaxin\" + 0.058*\"fee\" + 0.057*\"age\" + 0.057*\"date\" + 0.048*\"pay\" + 0.024*\"apollo\"\n",
      "Topic: 2 Word: 0.027*\"need\" + 0.024*\"booster\" + 0.020*\"travel\" + 0.017*\"best\" + 0.016*\"vaccin\" + 0.014*\"approv\" + 0.013*\"world\" + 0.012*\"boost\" + 0.009*\"time\" + 0.008*\"heal\"\n",
      "Topic: 3 Word: 0.054*\"vaccin\" + 0.034*\"shoot\" + 0.031*\"dose\" + 0.030*\"second\" + 0.029*\"today\" + 0.021*\"day\" + 0.021*\"receiv\" + 0.021*\"good\" + 0.018*\"hosp\" + 0.017*\"feel\"\n",
      "Topic: 4 Word: 0.042*\"approv\" + 0.018*\"emerg\" + 0.015*\"list\" + 0.014*\"vaccin\" + 0.013*\"ocgn\" + 0.011*\"kid\" + 0.011*\"recommend\" + 0.010*\"india\" + 0.009*\"columbia\" + 0.008*\"grant\"\n",
      "Topic: 5 Word: 0.019*\"case\" + 0.019*\"canada\" + 0.015*\"aarthi\" + 0.014*\"want\" + 0.013*\"scan\" + 0.013*\"report\" + 0.012*\"vaccin\" + 0.011*\"ontario\" + 0.010*\"sell\" + 0.009*\"mask\"\n",
      "Topic: 6 Word: 0.021*\"approv\" + 0.020*\"children\" + 0.016*\"vaccin\" + 0.014*\"india\" + 0.011*\"author\" + 0.010*\"covid\" + 0.009*\"bharat\" + 0.009*\"biotech\" + 0.008*\"recogn\" + 0.008*\"june\"\n",
      "Topic: 7 Word: 0.016*\"approv\" + 0.015*\"vaccin\" + 0.014*\"forti\" + 0.013*\"tradit\" + 0.012*\"sector\" + 0.012*\"dose\" + 0.011*\"congratul\" + 0.010*\"japan\" + 0.010*\"marg\" + 0.010*\"inactiv\"\n",
      "Topic: 8 Word: 0.018*\"vaccin\" + 0.014*\"million\" + 0.011*\"arriv\" + 0.010*\"covid\" + 0.009*\"china\" + 0.009*\"approv\" + 0.009*\"countri\" + 0.009*\"choic\" + 0.009*\"receiv\" + 0.009*\"recognis\"\n",
      "Topic: 9 Word: 0.162*\"pincod\" + 0.046*\"fulli\" + 0.032*\"thank\" + 0.023*\"final\" + 0.022*\"vaccin\" + 0.013*\"dose\" + 0.012*\"vaxx\" + 0.011*\"team\" + 0.009*\"ocugen\" + 0.009*\"mumbai\"\n"
     ]
    }
   ],
   "source": [
    "for idx, topic in lda_model_tfidf.print_topics(-1):\n",
    "    print('Topic: {} Word: {}'.format(idx, topic))"
   ]
  },
  {
   "cell_type": "markdown",
   "id": "bec59069",
   "metadata": {},
   "source": [
    "# Evaluation of performance using the LDA Bag of Words model to categorise a sample data"
   ]
  },
  {
   "cell_type": "code",
   "execution_count": 70,
   "id": "c3bd40c3",
   "metadata": {},
   "outputs": [
    {
     "name": "stdout",
     "output_type": "stream",
     "text": [
      "\n",
      "Score: 0.4015153646469116\t \n",
      "Topic: 0.105*\"age\" + 0.072*\"vaccin\" + 0.032*\"peopl\" + 0.031*\"need\" + 0.022*\"covid\" + 0.020*\"like\" + 0.017*\"kid\" + 0.015*\"pfizer\" + 0.014*\"moderna\" + 0.014*\"mrna\"\n",
      "\n",
      "Score: 0.3558349311351776\t \n",
      "Topic: 0.179*\"pincod\" + 0.120*\"dose\" + 0.101*\"vaccin\" + 0.034*\"thank\" + 0.030*\"fulli\" + 0.026*\"today\" + 0.022*\"wait\" + 0.021*\"million\" + 0.018*\"receiv\" + 0.018*\"final\"\n",
      "\n",
      "Score: 0.1648460477590561\t \n",
      "Topic: 0.090*\"vaccin\" + 0.056*\"year\" + 0.040*\"avail\" + 0.028*\"day\" + 0.025*\"receiv\" + 0.024*\"best\" + 0.018*\"die\" + 0.015*\"covid\" + 0.013*\"peopl\" + 0.012*\"take\"\n",
      "\n",
      "Score: 0.011118955910205841\t \n",
      "Topic: 0.041*\"vaccin\" + 0.032*\"good\" + 0.032*\"news\" + 0.030*\"ocgn\" + 0.017*\"effect\" + 0.015*\"great\" + 0.013*\"variant\" + 0.012*\"delta\" + 0.011*\"updat\" + 0.011*\"mrna\"\n",
      "\n",
      "Score: 0.011116639710962772\t \n",
      "Topic: 0.051*\"approv\" + 0.048*\"vaccin\" + 0.042*\"india\" + 0.027*\"covaxin\" + 0.027*\"biotech\" + 0.026*\"bharat\" + 0.020*\"data\" + 0.018*\"covid\" + 0.016*\"list\" + 0.016*\"ocgn\"\n",
      "\n",
      "Score: 0.011114086024463177\t \n",
      "Topic: 0.102*\"booster\" + 0.048*\"vaccin\" + 0.040*\"shoot\" + 0.030*\"clinic\" + 0.029*\"sputnik\" + 0.027*\"week\" + 0.026*\"travel\" + 0.023*\"moderna\" + 0.022*\"covid\" + 0.021*\"shot\"\n",
      "\n",
      "Score: 0.011113840155303478\t \n",
      "Topic: 0.112*\"approv\" + 0.059*\"vaccin\" + 0.042*\"health\" + 0.029*\"emerg\" + 0.021*\"countri\" + 0.019*\"covid\" + 0.018*\"author\" + 0.015*\"india\" + 0.014*\"boost\" + 0.013*\"grant\"\n",
      "\n",
      "Score: 0.011113402433693409\t \n",
      "Topic: 0.246*\"dose\" + 0.100*\"hospit\" + 0.055*\"apollo\" + 0.038*\"second\" + 0.033*\"covaxin\" + 0.026*\"hosp\" + 0.016*\"mask\" + 0.014*\"complet\" + 0.013*\"wear\" + 0.012*\"vaxx\"\n",
      "\n",
      "Score: 0.011113391257822514\t \n",
      "Topic: 0.196*\"covaxin\" + 0.176*\"date\" + 0.170*\"fee\" + 0.045*\"dose\" + 0.029*\"report\" + 0.027*\"case\" + 0.017*\"canada\" + 0.011*\"rxdx\" + 0.008*\"aarthi\" + 0.007*\"open\"\n",
      "\n",
      "Score: 0.011113380081951618\t \n",
      "Topic: 0.301*\"slot\" + 0.188*\"dose\" + 0.118*\"free\" + 0.095*\"avail\" + 0.059*\"pay\" + 0.012*\"feel\" + 0.009*\"road\" + 0.007*\"hour\" + 0.007*\"shoot\" + 0.007*\"sore\"\n"
     ]
    }
   ],
   "source": [
    "for index, score in sorted(lda_model[bow_corpus[4310]], key=lambda tup: -1*tup[1]):\n",
    "    print(\"\\nScore: {}\\t \\nTopic: {}\".format(score, lda_model.print_topic(index, 10)))"
   ]
  },
  {
   "cell_type": "markdown",
   "id": "1b5787ae",
   "metadata": {},
   "source": [
    "# Evaluation of performance using the LDA TF-IDF model to categorise a sample data"
   ]
  },
  {
   "cell_type": "code",
   "execution_count": 71,
   "id": "7f5712e0",
   "metadata": {},
   "outputs": [
    {
     "name": "stdout",
     "output_type": "stream",
     "text": [
      "\n",
      "Score: 0.5658981204032898\t \n",
      "Topic: 0.027*\"need\" + 0.024*\"booster\" + 0.020*\"travel\" + 0.017*\"best\" + 0.016*\"vaccin\" + 0.014*\"approv\" + 0.013*\"world\" + 0.012*\"boost\" + 0.009*\"time\" + 0.008*\"heal\"\n",
      "\n",
      "Score: 0.3451835513114929\t \n",
      "Topic: 0.018*\"vaccin\" + 0.014*\"million\" + 0.011*\"arriv\" + 0.010*\"covid\" + 0.009*\"china\" + 0.009*\"approv\" + 0.009*\"countri\" + 0.009*\"choic\" + 0.009*\"receiv\" + 0.009*\"recognis\"\n",
      "\n",
      "Score: 0.011118290014564991\t \n",
      "Topic: 0.022*\"effect\" + 0.016*\"studi\" + 0.016*\"vaccin\" + 0.013*\"covid\" + 0.012*\"data\" + 0.012*\"efficaci\" + 0.012*\"variant\" + 0.011*\"trial\" + 0.011*\"delta\" + 0.010*\"show\"\n",
      "\n",
      "Score: 0.01111586857587099\t \n",
      "Topic: 0.016*\"approv\" + 0.015*\"vaccin\" + 0.014*\"forti\" + 0.013*\"tradit\" + 0.012*\"sector\" + 0.012*\"dose\" + 0.011*\"congratul\" + 0.010*\"japan\" + 0.010*\"marg\" + 0.010*\"inactiv\"\n",
      "\n",
      "Score: 0.011114854365587234\t \n",
      "Topic: 0.054*\"vaccin\" + 0.034*\"shoot\" + 0.031*\"dose\" + 0.030*\"second\" + 0.029*\"today\" + 0.021*\"day\" + 0.021*\"receiv\" + 0.021*\"good\" + 0.018*\"hosp\" + 0.017*\"feel\"\n",
      "\n",
      "Score: 0.01111467182636261\t \n",
      "Topic: 0.042*\"approv\" + 0.018*\"emerg\" + 0.015*\"list\" + 0.014*\"vaccin\" + 0.013*\"ocgn\" + 0.011*\"kid\" + 0.011*\"recommend\" + 0.010*\"india\" + 0.009*\"columbia\" + 0.008*\"grant\"\n",
      "\n",
      "Score: 0.01111432071775198\t \n",
      "Topic: 0.021*\"approv\" + 0.020*\"children\" + 0.016*\"vaccin\" + 0.014*\"india\" + 0.011*\"author\" + 0.010*\"covid\" + 0.009*\"bharat\" + 0.009*\"biotech\" + 0.008*\"recogn\" + 0.008*\"june\"\n",
      "\n",
      "Score: 0.011114317923784256\t \n",
      "Topic: 0.019*\"case\" + 0.019*\"canada\" + 0.015*\"aarthi\" + 0.014*\"want\" + 0.013*\"scan\" + 0.013*\"report\" + 0.012*\"vaccin\" + 0.011*\"ontario\" + 0.010*\"sell\" + 0.009*\"mask\"\n",
      "\n",
      "Score: 0.011113537475466728\t \n",
      "Topic: 0.162*\"pincod\" + 0.046*\"fulli\" + 0.032*\"thank\" + 0.023*\"final\" + 0.022*\"vaccin\" + 0.013*\"dose\" + 0.012*\"vaxx\" + 0.011*\"team\" + 0.009*\"ocugen\" + 0.009*\"mumbai\"\n",
      "\n",
      "Score: 0.01111249253153801\t \n",
      "Topic: 0.135*\"slot\" + 0.101*\"dose\" + 0.087*\"free\" + 0.075*\"avail\" + 0.059*\"covaxin\" + 0.058*\"fee\" + 0.057*\"age\" + 0.057*\"date\" + 0.048*\"pay\" + 0.024*\"apollo\"\n"
     ]
    }
   ],
   "source": [
    "for index, score in sorted(lda_model_tfidf[bow_corpus[4310]], key=lambda tup: -1*tup[1]):\n",
    "    print(\"\\nScore: {}\\t \\nTopic: {}\".format(score, lda_model_tfidf.print_topic(index, 10)))"
   ]
  },
  {
   "cell_type": "markdown",
   "id": "cea713fa",
   "metadata": {},
   "source": [
    "    Our test document had the highest probability of belonging to the topic that our model assigned, showing that it was successfully categorised."
   ]
  },
  {
   "cell_type": "markdown",
   "id": "8019f4ac",
   "metadata": {},
   "source": [
    "# Model validation on a previously unseen data"
   ]
  },
  {
   "cell_type": "code",
   "execution_count": 72,
   "id": "cf36c8ab",
   "metadata": {},
   "outputs": [
    {
     "name": "stdout",
     "output_type": "stream",
     "text": [
      "Score: 0.4270382821559906\t Topic: 0.105*\"age\" + 0.072*\"vaccin\" + 0.032*\"peopl\" + 0.031*\"need\" + 0.022*\"covid\"\n",
      "Score: 0.2041189968585968\t Topic: 0.051*\"approv\" + 0.048*\"vaccin\" + 0.042*\"india\" + 0.027*\"covaxin\" + 0.027*\"biotech\"\n",
      "Score: 0.1774495244026184\t Topic: 0.090*\"vaccin\" + 0.056*\"year\" + 0.040*\"avail\" + 0.028*\"day\" + 0.025*\"receiv\"\n",
      "Score: 0.1580325812101364\t Topic: 0.041*\"vaccin\" + 0.032*\"good\" + 0.032*\"news\" + 0.030*\"ocgn\" + 0.017*\"effect\"\n"
     ]
    }
   ],
   "source": [
    "unseen_document = 'The Janssen COVID19 fact sheets have been updated to include contraindications for people with a history of thrombosis with thrombocytopenia following the Janssen COVID19 Vaccine or any other adenovirus-vectored COVID19 vaccine.'\n",
    "bow_vector = dictionary.doc2bow(preprocess(unseen_document))\n",
    "\n",
    "for index, score in sorted(lda_model[bow_vector], key=lambda tup: -1*tup[1]):\n",
    "    print(\"Score: {}\\t Topic: {}\".format(score, lda_model.print_topic(index, 5)))"
   ]
  },
  {
   "cell_type": "code",
   "execution_count": null,
   "id": "f5cfcb22",
   "metadata": {},
   "outputs": [],
   "source": []
  }
 ],
 "metadata": {
  "kernelspec": {
   "display_name": "Python 3 (ipykernel)",
   "language": "python",
   "name": "python3"
  },
  "language_info": {
   "codemirror_mode": {
    "name": "ipython",
    "version": 3
   },
   "file_extension": ".py",
   "mimetype": "text/x-python",
   "name": "python",
   "nbconvert_exporter": "python",
   "pygments_lexer": "ipython3",
   "version": "3.8.8"
  }
 },
 "nbformat": 4,
 "nbformat_minor": 5
}
